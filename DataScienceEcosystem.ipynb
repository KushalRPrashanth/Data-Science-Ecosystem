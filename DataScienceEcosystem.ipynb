{
 "cells": [
  {
   "cell_type": "markdown",
   "id": "1de42686-bb05-4432-bc9b-2970049e5036",
   "metadata": {},
   "source": [
    "# Data Science Tools and Ecosystem"
   ]
  },
  {
   "cell_type": "markdown",
   "id": "be1a26e6-51f0-4a3d-b016-36fa161c11d7",
   "metadata": {},
   "source": [
    "In this notebook, Data Science Tools and Ecosystem are summarized."
   ]
  },
  {
   "cell_type": "markdown",
   "id": "631952cd-c4f3-45cd-b855-b5c58fbe7b75",
   "metadata": {},
   "source": [
    "**Objectives:**\n",
    "\n",
    "+ Some of the popular languages that Data Scientists use\n",
    "+ Some of the commonly used libraries used by Data Scientists\n",
    "+ Data Science Tools\n",
    "+ Few examples of evaluating arithmetic expressions in Python"
   ]
  },
  {
   "cell_type": "markdown",
   "id": "e6060bea-88d1-4439-a7ed-c1943814bcc3",
   "metadata": {},
   "source": [
    "Some of the popular languages that Data Scientists use are:\n",
    "1. Python\n",
    "2. R\n",
    "3. SQL"
   ]
  },
  {
   "cell_type": "markdown",
   "id": "9e7d403f-69d9-423c-b762-ef998ecd61d7",
   "metadata": {},
   "source": [
    "Some of the the commonly used libraries used by Data Scientists include:\n",
    "1. Pandas\n",
    "2. Scipy\n",
    "3. Scikit-learn\n",
    "4. Numpy\n",
    "5. Keras\n",
    "6. TensorFlow"
   ]
  },
  {
   "cell_type": "markdown",
   "id": "647d3e1d-6d65-4ef7-b26a-46daf3c52475",
   "metadata": {
    "tags": []
   },
   "source": [
    "-----------------------------------------------\n",
    "Data Science Tools\n",
    "-----------------------------------------------\n",
    "|Jupyter Notebooks|Zeppelin Notebooks|R Studio|\n",
    "-----------------------------------------------"
   ]
  },
  {
   "cell_type": "markdown",
   "id": "640b39f2-3c1d-43c6-a5a1-9f3dd820f4c7",
   "metadata": {},
   "source": [
    "### Below are a few examples of evaluating arithmetic expressions in Python:"
   ]
  },
  {
   "cell_type": "code",
   "execution_count": 7,
   "id": "8437a912-4ec5-410b-b7e2-e4e400b764b5",
   "metadata": {},
   "outputs": [
    {
     "data": {
      "text/plain": [
       "17"
      ]
     },
     "execution_count": 7,
     "metadata": {},
     "output_type": "execute_result"
    }
   ],
   "source": [
    "#This a simple arithmetic expression to mutiply then add integers\n",
    "(3*4)+5"
   ]
  },
  {
   "cell_type": "code",
   "execution_count": 9,
   "id": "a68c4e82-5e94-4c4f-8f65-1d41e32aead5",
   "metadata": {},
   "outputs": [
    {
     "data": {
      "text/plain": [
       "3.3333333333333335"
      ]
     },
     "execution_count": 9,
     "metadata": {},
     "output_type": "execute_result"
    }
   ],
   "source": [
    "#This will convert 200 minutes to hours by diving by 60\n",
    "200/60"
   ]
  },
  {
   "cell_type": "markdown",
   "id": "9834501f-0718-4f91-af31-3b106a0cacc6",
   "metadata": {},
   "source": [
    "## Author:\n",
    "**Kushal R Prashanth**"
   ]
  },
  {
   "cell_type": "code",
   "execution_count": null,
   "id": "993b1650-8176-4801-acd8-cc2ff85aa2c9",
   "metadata": {},
   "outputs": [],
   "source": []
  }
 ],
 "metadata": {
  "kernelspec": {
   "display_name": "anaconda-panel-2023.05-py310",
   "language": "python",
   "name": "conda-env-anaconda-panel-2023.05-py310-py"
  },
  "language_info": {
   "codemirror_mode": {
    "name": "ipython",
    "version": 3
   },
   "file_extension": ".py",
   "mimetype": "text/x-python",
   "name": "python",
   "nbconvert_exporter": "python",
   "pygments_lexer": "ipython3",
   "version": "3.11.4"
  }
 },
 "nbformat": 4,
 "nbformat_minor": 5
}
